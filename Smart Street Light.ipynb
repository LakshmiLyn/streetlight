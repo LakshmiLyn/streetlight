{
 "cells": [
  {
   "cell_type": "code",
   "execution_count": null,
   "id": "77e08e64",
   "metadata": {},
   "outputs": [],
   "source": [
    "%run Training.ipynb"
   ]
  },
  {
   "cell_type": "code",
   "execution_count": null,
   "id": "7f4dc541",
   "metadata": {},
   "outputs": [],
   "source": [
    "import numpy as np\n",
    "import pandas as pd\n",
    "import matplotlib.pyplot as plt\n",
    "import seaborn as sns\n",
    "sns.set_palette('Set2')\n",
    "from PIL import Image"
   ]
  },
  {
   "cell_type": "code",
   "execution_count": null,
   "id": "a0a94323",
   "metadata": {},
   "outputs": [],
   "source": [
    "X = data.loc[:,data.columns!='Class']\n",
    "Y = data['Class']\n",
    "clf.fit(X)\n",
    "scores_prediction = clf.decision_function(X)\n",
    "y_pred = clf.predict(X)\n",
    "y_pred[y_pred == 1] = 0\n",
    "y_pred[y_pred == -1] = 1\n",
    "n_errors = (y_pred != Y).sum()"
   ]
  },
  {
   "cell_type": "code",
   "execution_count": null,
   "id": "d096009f",
   "metadata": {},
   "outputs": [],
   "source": [
    "if (y_pred==Y==True):\n",
    "    img = Image.open(r\"D:\\vit\\Sem6_VIT\\CSE3062P\\Smart-Street-Lighting-On.png\")\n",
    "    img.show()\n",
    "else:\n",
    "    img = Image.open(r\"D:\\vit\\Sem6_VIT\\CSE3062P\\Smart-Street-Lighting-Off.png\")\n",
    "    img.show()"
   ]
  },
  {
   "cell_type": "code",
   "execution_count": null,
   "id": "d3569288",
   "metadata": {},
   "outputs": [],
   "source": []
  },
  {
   "cell_type": "code",
   "execution_count": null,
   "id": "8689dc08",
   "metadata": {},
   "outputs": [],
   "source": []
  },
  {
   "cell_type": "code",
   "execution_count": null,
   "id": "c66cd84b",
   "metadata": {},
   "outputs": [],
   "source": []
  },
  {
   "cell_type": "code",
   "execution_count": null,
   "id": "3f529597",
   "metadata": {},
   "outputs": [],
   "source": []
  }
 ],
 "metadata": {
  "kernelspec": {
   "display_name": "Python 3",
   "language": "python",
   "name": "python3"
  },
  "language_info": {
   "codemirror_mode": {
    "name": "ipython",
    "version": 3
   },
   "file_extension": ".py",
   "mimetype": "text/x-python",
   "name": "python",
   "nbconvert_exporter": "python",
   "pygments_lexer": "ipython3",
   "version": "3.6.13"
  }
 },
 "nbformat": 4,
 "nbformat_minor": 5
}
